{
 "cells": [
  {
   "cell_type": "markdown",
   "id": "9db838d8",
   "metadata": {},
   "source": [
    "# Homework 2 - Binary Mixing"
   ]
  },
  {
   "cell_type": "markdown",
   "id": "66c83915",
   "metadata": {},
   "source": [
    "For this homework, you will be doing two simulations to illustrate binary mixing of particles."
   ]
  },
  {
   "cell_type": "code",
   "execution_count": null,
   "id": "1936328c",
   "metadata": {},
   "outputs": [],
   "source": [
    "import numpy as np\n",
    "import matplotlib.pyplot as plt\n",
    "import hoomd\n",
    "import gsd.hoomd\n",
    "import itertools"
   ]
  },
  {
   "cell_type": "markdown",
   "id": "6d6d78aa",
   "metadata": {},
   "source": [
    "For this simulation, I have already set up the initial configuration for you, so all we have to do is initialize the simulation with our initial configuration gsd file. As always, we select the device we'd like to use for the simulation and create our simulation state. "
   ]
  },
  {
   "cell_type": "code",
   "execution_count": null,
   "id": "2ca364c4",
   "metadata": {},
   "outputs": [],
   "source": [
    "cpu = hoomd.device.CPU()\n",
    "\n",
    "sim = hoomd.Simulation(device=cpu, seed=1)\n",
    "sim.create_state_from_gsd(filename='binary_config.gsd')\n",
    "snap = sim.state.get_snapshot()"
   ]
  },
  {
   "cell_type": "markdown",
   "id": "9c03ec14",
   "metadata": {},
   "source": [
    "Now that we've initialized the simulation, we must create our integrator. "
   ]
  },
  {
   "cell_type": "code",
   "execution_count": null,
   "id": "a0fcb4e2",
   "metadata": {},
   "outputs": [],
   "source": [
    "integrator = hoomd.md.Integrator(dt=0.005)\n",
    "sim.operations.integrator = integrator"
   ]
  },
  {
   "cell_type": "markdown",
   "id": "084b0fbe",
   "metadata": {},
   "source": [
    "For this simulation, we are again going to use a Lennard-Jones pair potential to describe particle interactions. We have two different particle types in this system, so we must define interactions between particles of the same type as well as between particles of different types. Let's set that up now. "
   ]
  },
  {
   "cell_type": "code",
   "execution_count": null,
   "id": "bccae9b0",
   "metadata": {},
   "outputs": [],
   "source": [
    "cell = hoomd.md.nlist.Cell(buffer=0.4)\n",
    "lj = hoomd.md.pair.LJ(nlist=cell, default_r_cut=2.5)\n",
    "\n",
    "lj.params[('typeA', 'typeA')] = dict(epsilon=1, sigma=1)\n",
    "lj.params[('typeB', 'typeB')] = dict(epsilon=1, sigma=1)\n",
    "lj.params[('typeA', 'typeB')] = dict(epsilon=1, sigma=1)\n",
    "\n",
    "integrator.forces.append(lj)"
   ]
  },
  {
   "cell_type": "markdown",
   "id": "7677e005",
   "metadata": {},
   "source": [
    "And for the integrator, we are going to use an NVT integration method with the Nose-Hoover thermostat. This means that we are holding number of particles, volume, and temperature constant in our simulation while pressure and energy fluctuate. "
   ]
  },
  {
   "cell_type": "code",
   "execution_count": null,
   "id": "15150aea",
   "metadata": {},
   "outputs": [],
   "source": [
    "nvt = hoomd.md.methods.ConstantVolume(filter=hoomd.filter.All(), \n",
    "                                      thermostat=hoomd.md.methods.thermostats.MTTK(kT=1.0, \n",
    "                                                                                tau=sim.operations.integrator.dt*100))\n",
    "integrator.methods.append(nvt)\n",
    "\n",
    "sim.state.thermalize_particle_momenta(filter=hoomd.filter.All(), kT=1.0)"
   ]
  },
  {
   "cell_type": "markdown",
   "id": "a160f497",
   "metadata": {},
   "source": [
    "For this simulation, we want to model binary mixing which means we don't want the system to have periodic boundaries.  In HOOMD, we can create walls and place them on the faces of the simulation box to \"turn-off\" periodic boundaries. To do this, we must create a list of wall objects and then assign them all a force to dictate how the particles interact with the walls. \n",
    "\n",
    "Because we have a cubic simulation box, we want to create 6 walls, one for each face of the box. It's important to note here that HOOMD defines the center of the box to be the point (0, 0, 0). This means that the edges of the box fall at -L/2 and L/2, with L being the box length. \n",
    "\n",
    "To create a wall object, we define the geometry of the wall, which in our case is a Plane, and place it so that it intersects with a given point, or the `origin`. Then, we define a vector that is normal to the plane to correctly orient it in the space. I have created the first five walls already, so now it's your turn! **Fill in the origin point and normal vector that describes the bottom wall in the box (a wall on the xy plane).** For more information about walls in HOOMD, take a look at the [documentation](https://hoomd-blue.readthedocs.io/en/v4.1.0/module-hoomd-wall.html#hoomd.wall.Plane)."
   ]
  },
  {
   "cell_type": "code",
   "execution_count": null,
   "id": "fe9844b4",
   "metadata": {},
   "outputs": [],
   "source": [
    "#get the box length from the simulation snapshot\n",
    "box_dim = snap.configuration.box\n",
    "L = box_dim[0]\n",
    "\n",
    "#set up the walls\n",
    "boxwalls = [hoomd.wall.Plane(origin=(-L/2, 0, 0), normal=(1, 0, 0), open=False), #left well (-yz plane)\n",
    "               hoomd.wall.Plane(origin=(L/2, 0, 0), normal=(-1, 0, 0), open=False), # right wall (yz plane)\n",
    "               hoomd.wall.Plane(origin=(0, L/2, 0), normal=(0, -1, 0), open=False), #front wall (xz plane)\n",
    "               hoomd.wall.Plane(origin=(0, -L/2, 0), normal=(0, 1, 0), open=False), #back wall (-xz plane)\n",
    "               hoomd.wall.Plane(origin=(0, 0, L/2), normal=(0, 0, -1), open=False),#top wall (xy plane)\n",
    "               hoomd.wall.Plane(origin=(), normal=(), open=False)] #bottom wall (-xy plane)\n",
    "box_force = hoomd.md.external.wall.LJ(walls=boxwalls)\n",
    "box_force.params[['typeA', 'typeB']] = dict(epsilon=1, sigma=1, r_cut=2**(1/6))\n",
    "integrator.forces.append(box_force)"
   ]
  },
  {
   "cell_type": "markdown",
   "id": "d83e9077",
   "metadata": {},
   "source": [
    "Because we want to see what happens when the particles mix, we should place a wall in between the two particle types at the start of the simulation. One of the important features of HOOMD walls is that only one side of the wall is \"active\", meaning only one side of the wall (the side that your normal vector points away from) will actually interact with the particles. Because of this, we must place two walls in the center of the box, one facing each side, to ensure that we have a partition. "
   ]
  },
  {
   "cell_type": "code",
   "execution_count": null,
   "id": "c8e79c85",
   "metadata": {},
   "outputs": [],
   "source": [
    "partition = [hoomd.wall.Plane(origin=(0, 0, 0), normal=(0, 0, 1), open=False), \n",
    "               hoomd.wall.Plane(origin=(0, 0, 0), normal=(0, 0, -1), open=False)]\n",
    "partition_force = hoomd.md.external.wall.LJ(walls=partition)\n",
    "partition_force.params[['typeA','typeB']] = dict(epsilon=1, sigma=1, r_cut=2**(1/6))\n",
    "integrator.forces.append(partition_force)"
   ]
  },
  {
   "cell_type": "markdown",
   "id": "f8ce0b38",
   "metadata": {},
   "source": [
    "Now that we've set up the system, we can define our computes and writers so that we can log the data we get in this simulation. "
   ]
  },
  {
   "cell_type": "code",
   "execution_count": null,
   "id": "56dcf13c",
   "metadata": {},
   "outputs": [],
   "source": [
    "thermo_properties = hoomd.md.compute.ThermodynamicQuantities(filter=hoomd.filter.All())\n",
    "sim.operations.computes.append(thermo_properties)\n",
    "\n",
    "logger = hoomd.logging.Logger()\n",
    "logger.add(thermo_properties)\n",
    "\n",
    "gsd_writer = hoomd.write.GSD(filename='binary_mixing_walls_log.gsd', trigger = hoomd.trigger.Periodic(100), \n",
    "                             mode='wb', filter=hoomd.filter.All(), logger=logger)\n",
    "sim.operations.writers.append(gsd_writer)\n",
    "\n",
    "table_logger = hoomd.logging.Logger(categories=['scalar', 'string'])\n",
    "table_logger.add(sim, quantities=['timestep', 'tps', 'walltime'])\n",
    "table = hoomd.write.Table(trigger=hoomd.trigger.Periodic(period=1000),\n",
    "                          logger=table_logger)\n",
    "sim.operations.writers.append(table)"
   ]
  },
  {
   "cell_type": "markdown",
   "id": "f88af397",
   "metadata": {},
   "source": [
    "Now we can run the initial steps of the simulation. "
   ]
  },
  {
   "cell_type": "code",
   "execution_count": null,
   "id": "1b4974ef",
   "metadata": {},
   "outputs": [],
   "source": [
    "sim.run(10000)"
   ]
  },
  {
   "cell_type": "markdown",
   "id": "522b3117",
   "metadata": {},
   "source": [
    "Once we have allowed the system to equilibrate on each side of our partition, we can remove the partition and run the simulation again, allowing the particles to begin mixing. "
   ]
  },
  {
   "cell_type": "code",
   "execution_count": null,
   "id": "47555cce",
   "metadata": {},
   "outputs": [],
   "source": [
    "integrator.forces.remove(partition_force)\n",
    "sim.run(10000)\n",
    "gsd_writer.flush()"
   ]
  },
  {
   "cell_type": "markdown",
   "id": "3dc4660a",
   "metadata": {},
   "source": [
    "Now that you have completed the simulation, **plot the potential energy of the system as a function of time.**"
   ]
  },
  {
   "cell_type": "markdown",
   "id": "355afc4a",
   "metadata": {},
   "source": [
    "To better understand the impact of binary mixing and non-periodicity on our system, we should also take a look at a binary system without walls. \n",
    "\n",
    "**Create a simulation of binary mixing *without* walls using the same initial configuration. Compare the potential energy of the walled simulation to that of the non-walled simulation, and answer the following questions.** \n",
    " * **Which system equilibrates faster? Why?**\n",
    " * **What differences do you notice in the energy fluctations between the two simulations? What could be the reason for these differences?**\n",
    "\n",
    "\n",
    "I recommend you create a separate jupyter notebook for the second simulation to keep everything organized. For this assigment you should submit:\n",
    "1. PDF versions of your jupyter notebook(s)\n",
    "2. A PDF containing the plots (please label them and ensure the axes are the same scale) and answers to the above questions\n",
    "3. A movie of each simulation, created with Ovito \n",
    "\n",
    "Note: It would be great if you could combine all of your pdfs into one pdf file, but if you forget/can't do that it's okay."
   ]
  }
 ],
 "metadata": {
  "kernelspec": {
   "display_name": "hoomd4",
   "language": "python",
   "name": "hoomd"
  },
  "language_info": {
   "codemirror_mode": {
    "name": "ipython",
    "version": 3
   },
   "file_extension": ".py",
   "mimetype": "text/x-python",
   "name": "python",
   "nbconvert_exporter": "python",
   "pygments_lexer": "ipython3",
   "version": "3.11.4"
  }
 },
 "nbformat": 4,
 "nbformat_minor": 5
}
