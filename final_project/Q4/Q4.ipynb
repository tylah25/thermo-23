{
 "cells": [
  {
   "cell_type": "markdown",
   "id": "2e68163d",
   "metadata": {},
   "source": [
    "# Final Project - Question 4"
   ]
  },
  {
   "cell_type": "markdown",
   "id": "21803856",
   "metadata": {},
   "source": [
    "You already have all the knowledge needed to create this simulation! Use the simulations from Homework 5 as a base. I have given you initial configuration files for each chain length.\n",
    "\n",
    "Some things to remember and parameters to note:\n",
    "- If you use the given initial configuration script, there will be two particle types in the system, 'typeA' and 'typeB', which are the beads on the two types of chains. \n",
    "- There is one bond type in the system, type 'polymer' which is a FENE bond and use the same 'default' parameters as in HW5. \n",
    "- Use WCA interactions for A-A and B-B interactions (LJ with $r_{cut}=2^{1/6}\\sigma$) with $\\epsilon=0$ and $\\sigma=1$, but for A-B interactions, set $\\epsilon=0.5$ and $r_{cut}=2^{1/6}\\sigma$.\n",
    "- I set up the Langevin integration method for you already! For the t_start of your temperature ramp, have it begin once your box has finished shrinking.\n",
    "- Don't forget to collect your data after the box finishes shrinking."
   ]
  },
  {
   "cell_type": "code",
   "execution_count": null,
   "id": "7b61865f",
   "metadata": {},
   "outputs": [],
   "source": [
    "temp_ramp = hoomd.variant.Ramp(A=5.0, #initial temperature\n",
    "                               B=0.05, #final temperature\n",
    "                               t_start=t_shrink, #how long you will shrink the box (so that this starts once that finishes)\n",
    "                               t_ramp=ramp_length) #how long you want the ramp to last \n",
    "langevin = hoomd.md.methods.Langevin(filter=hoomd.filter.All(), kT=temp_ramp)"
   ]
  }
 ],
 "metadata": {
  "kernelspec": {
   "display_name": "hoomd4",
   "language": "python",
   "name": "hoomd"
  },
  "language_info": {
   "codemirror_mode": {
    "name": "ipython",
    "version": 3
   },
   "file_extension": ".py",
   "mimetype": "text/x-python",
   "name": "python",
   "nbconvert_exporter": "python",
   "pygments_lexer": "ipython3",
   "version": "3.11.4"
  }
 },
 "nbformat": 4,
 "nbformat_minor": 5
}
