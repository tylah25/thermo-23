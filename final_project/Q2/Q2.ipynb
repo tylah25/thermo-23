{
 "cells": [
  {
   "cell_type": "markdown",
   "id": "85d133d5",
   "metadata": {},
   "source": [
    "# Final Project Question 2"
   ]
  },
  {
   "cell_type": "markdown",
   "id": "8e74ed3e",
   "metadata": {},
   "source": [
    "You have all the knowledge necessary to create this simulation! You were given the initial configuration files for each size ratio. \n",
    "\n",
    "Some things to remember and parameters to note:\n",
    "- There are 2 particle types in this system, 'typeA' (colloids) and 'typeB' (PHS). (Pure colloids only has typeA)\n",
    "- Use LJ interactions with a cut off of $2^{1/6}\\sigma$, where $\\sigma$ is determined from the contact distance (sum of the radii) of two particles.\n",
    "- For the PHS-PHS interactions, set $\\epsilon=0$ in the LJ paramters to ensure they can freely overlap.\n",
    "- Use Langevin integration with kT=1\n",
    "- Don't forget to rescale the box to ensure you're at the desired volume fraction (and remember to only include the colloids in the volume fraction calculation). Don't start collecting data until after you've shrunk the box.\n",
    "- It may help to separate your writers by particle type. Check your previous homeworks if you don't remember how to do that!"
   ]
  },
  {
   "cell_type": "code",
   "execution_count": null,
   "id": "2388e307",
   "metadata": {},
   "outputs": [],
   "source": []
  }
 ],
 "metadata": {
  "kernelspec": {
   "display_name": "hoomd4",
   "language": "python",
   "name": "hoomd"
  },
  "language_info": {
   "codemirror_mode": {
    "name": "ipython",
    "version": 3
   },
   "file_extension": ".py",
   "mimetype": "text/x-python",
   "name": "python",
   "nbconvert_exporter": "python",
   "pygments_lexer": "ipython3",
   "version": "3.11.4"
  }
 },
 "nbformat": 4,
 "nbformat_minor": 5
}
