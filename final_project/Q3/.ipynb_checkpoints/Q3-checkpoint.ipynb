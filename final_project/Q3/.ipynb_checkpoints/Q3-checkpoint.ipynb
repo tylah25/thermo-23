{
 "cells": [
  {
   "cell_type": "markdown",
   "id": "342a7383",
   "metadata": {},
   "source": [
    "# Final Project - Question 3"
   ]
  },
  {
   "cell_type": "markdown",
   "id": "652dfd21",
   "metadata": {},
   "source": [
    "You already have all of the knowledge required to create this simulation! You will have to generate your own initial configuration file, but look back at your first homework for some guidance. Make sure to shrink the box to the desired volume fraction (or density) for your initial state point.\n",
    "\n",
    "Some things to remember and parameters to note:\n",
    "- Use LJ interactions with a cutoff of $2.5\\sigma$\n",
    "- Make sure you thermalize particle momenta!\n",
    "- Use ConstantVolume integration with a Nose-Hoover (MTTK) thermostat, and set kT equal to a ramp, an example of which is given below."
   ]
  },
  {
   "cell_type": "code",
   "execution_count": null,
   "id": "aa6fc443",
   "metadata": {},
   "outputs": [],
   "source": [
    "temp_ramp = hoomd.variant.Ramp(A= , #initial temperature\n",
    "                               B= , #final temperature\n",
    "                               t_start=t_shrink, #how long you will shrink the box (so that this starts once that finishes)\n",
    "                               t_ramp=ramp_length) #how long you want the ramp to last \n",
    "mttk = hoomd.md.methods.thermostats.MTTK(kT=temp_ramp, tau=integrator.dt)\n",
    "nvt = hoomd.md.methods.ConstantVolume(filter=hoomd.filter.All(), thermostat=mttk)"
   ]
  }
 ],
 "metadata": {
  "kernelspec": {
   "display_name": "hoomd4",
   "language": "python",
   "name": "hoomd"
  },
  "language_info": {
   "codemirror_mode": {
    "name": "ipython",
    "version": 3
   },
   "file_extension": ".py",
   "mimetype": "text/x-python",
   "name": "python",
   "nbconvert_exporter": "python",
   "pygments_lexer": "ipython3",
   "version": "3.11.4"
  }
 },
 "nbformat": 4,
 "nbformat_minor": 5
}
